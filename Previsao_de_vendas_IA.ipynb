{
  "nbformat": 4,
  "nbformat_minor": 0,
  "metadata": {
    "colab": {
      "provenance": [],
      "toc_visible": true,
      "authorship_tag": "ABX9TyPTAjTc+VE+q9JNZoYvB1Gn",
      "include_colab_link": true
    },
    "kernelspec": {
      "name": "python3",
      "display_name": "Python 3"
    },
    "language_info": {
      "name": "python"
    }
  },
  "cells": [
    {
      "cell_type": "markdown",
      "metadata": {
        "id": "view-in-github",
        "colab_type": "text"
      },
      "source": [
        "<a href=\"https://colab.research.google.com/github/derick1castro/Previsao-de-vendas/blob/main/Previsao_de_vendas_IA.ipynb\" target=\"_parent\"><img src=\"https://colab.research.google.com/assets/colab-badge.svg\" alt=\"Open In Colab\"/></a>"
      ]
    },
    {
      "cell_type": "markdown",
      "source": [
        "#1° Entendimento do Problema de Negócio\n"
      ],
      "metadata": {
        "id": "UBdmUt4_SREA"
      }
    },
    {
      "cell_type": "markdown",
      "source": [
        "A empresa solicitou a equipe de Ciência de Dados que desenvolvessem uma metodologia Preditiva que utilizasse IA com o objetivo de encontrar, entre seus Leads, quais são aqueles que estão mais propensos a comprarem seu produto, dada uma campanha de Marketing.\n",
        "\n",
        "Ou seja, a empresa quer saber se, o cliente fosse atingido por uma campanha de marketing, qual seria o resultado:\n",
        "\n",
        "O cliente compra\n",
        "\n",
        "ou\n",
        "\n",
        "O cliente não compra"
      ],
      "metadata": {
        "id": "AKfzB4CYEvJv"
      }
    },
    {
      "cell_type": "markdown",
      "source": [
        "Com esse Mão na massa, vc já terá condições de realizar:\n",
        "Realizar instruções ao Computador com Python\n",
        "\n",
        "Produzir Relatório Automatizado de Dados\n",
        "\n",
        "Produzir Estatísticas sobre os Dados do dataset\n",
        "\n",
        "Produzir Dashboads Automáticos dos Dados do dataset"
      ],
      "metadata": {
        "id": "EvNd-8RBEzS8"
      }
    },
    {
      "cell_type": "markdown",
      "source": [
        "#2° Análise Exploratória dos Dados"
      ],
      "metadata": {
        "id": "f2ynYTW2Ty76"
      }
    },
    {
      "cell_type": "code",
      "source": [
        "# Biblioteca Python para Análise de Dados\n",
        "!pip install pandas-profiling"
      ],
      "metadata": {
        "id": "lRxyGSqMFCX_"
      },
      "execution_count": null,
      "outputs": []
    },
    {
      "cell_type": "code",
      "source": [
        "# Biblioteca Python para Realizar o acesso aos Dados\n",
        "!pip install gdown"
      ],
      "metadata": {
        "id": "OeHgGVCaFYsZ"
      },
      "execution_count": null,
      "outputs": []
    },
    {
      "cell_type": "code",
      "source": [
        "#Bibliotecas a serem utilizadas\n",
        "import gdown\n",
        "import pandas as pd\n",
        "from pandas_profiling import ProfileReport"
      ],
      "metadata": {
        "id": "UzEBvV69Fa4B"
      },
      "execution_count": null,
      "outputs": []
    },
    {
      "cell_type": "markdown",
      "source": [
        "Caminho para o download dos dados utilizados para a análise dos Dados."
      ],
      "metadata": {
        "id": "NDdwX5soFdpw"
      }
    },
    {
      "cell_type": "code",
      "source": [
        "# URL do arquivo do Google Drive\n",
        "url = 'https://drive.google.com/file/d/1_kq8cZ4JZVsYw0BamYfiohSngLIJkoVb/view?usp=sharing'\n",
        "output = 'dataset.csv'  # nome do arquivo que será salvo localmente\n",
        "\n",
        "# Transformando o link compartilhado em um link direto para download\n",
        "file_id = url.split('/')[-2]\n",
        "dwn_url='https://drive.google.com/uc?id=' + file_id\n",
        "\n",
        "# Fazendo o download do arquivo\n",
        "gdown.download(dwn_url, output, quiet=False)"
      ],
      "metadata": {
        "id": "rxHWmTweFhdl"
      },
      "execution_count": null,
      "outputs": []
    },
    {
      "cell_type": "code",
      "source": [
        "# Carregando o arquivo CSV com o pandas\n",
        "df = pd.read_csv(output, delimiter=',')\n",
        "\n",
        "# Mostrando as primeiras linhas do dataframe\n",
        "df.head()"
      ],
      "metadata": {
        "colab": {
          "base_uri": "https://localhost:8080/",
          "height": 288
        },
        "id": "8XmTj4kWFjkj",
        "outputId": "5ef839e8-2834-46c7-a476-75343da70841"
      },
      "execution_count": 5,
      "outputs": [
        {
          "output_type": "execute_result",
          "data": {
            "text/plain": [
              "   idade             emprego estado_civil      educacao padrao  saldo moradia  \\\n",
              "0     58             gerente       casado     terciário    não   2143     sim   \n",
              "1     44             técnico     solteiro    secundário    não     29     sim   \n",
              "2     33        empreendedor       casado    secundário    não      2     sim   \n",
              "3     47  trabalhador-manual       casado  desconhecido    não   1506     sim   \n",
              "4     33        desconhecido     solteiro  desconhecido    não      1     não   \n",
              "\n",
              "  emprestimo       contato  dia   mes  duracao  campanha  dias_passados  \\\n",
              "0        não  desconhecido    5  maio      261         1             -1   \n",
              "1        não  desconhecido    5  maio      151         1             -1   \n",
              "2        sim  desconhecido    5  maio       76         1             -1   \n",
              "3        não  desconhecido    5  maio       92         1             -1   \n",
              "4        não  desconhecido    5  maio      198         1             -1   \n",
              "\n",
              "   anterior resultado_anterior prevendas  \n",
              "0         0       desconhecido       não  \n",
              "1         0       desconhecido       não  \n",
              "2         0       desconhecido       não  \n",
              "3         0       desconhecido       não  \n",
              "4         0       desconhecido       não  "
            ],
            "text/html": [
              "\n",
              "\n",
              "  <div id=\"df-bffc6d19-c834-4393-a666-1785bde1253a\">\n",
              "    <div class=\"colab-df-container\">\n",
              "      <div>\n",
              "<style scoped>\n",
              "    .dataframe tbody tr th:only-of-type {\n",
              "        vertical-align: middle;\n",
              "    }\n",
              "\n",
              "    .dataframe tbody tr th {\n",
              "        vertical-align: top;\n",
              "    }\n",
              "\n",
              "    .dataframe thead th {\n",
              "        text-align: right;\n",
              "    }\n",
              "</style>\n",
              "<table border=\"1\" class=\"dataframe\">\n",
              "  <thead>\n",
              "    <tr style=\"text-align: right;\">\n",
              "      <th></th>\n",
              "      <th>idade</th>\n",
              "      <th>emprego</th>\n",
              "      <th>estado_civil</th>\n",
              "      <th>educacao</th>\n",
              "      <th>padrao</th>\n",
              "      <th>saldo</th>\n",
              "      <th>moradia</th>\n",
              "      <th>emprestimo</th>\n",
              "      <th>contato</th>\n",
              "      <th>dia</th>\n",
              "      <th>mes</th>\n",
              "      <th>duracao</th>\n",
              "      <th>campanha</th>\n",
              "      <th>dias_passados</th>\n",
              "      <th>anterior</th>\n",
              "      <th>resultado_anterior</th>\n",
              "      <th>prevendas</th>\n",
              "    </tr>\n",
              "  </thead>\n",
              "  <tbody>\n",
              "    <tr>\n",
              "      <th>0</th>\n",
              "      <td>58</td>\n",
              "      <td>gerente</td>\n",
              "      <td>casado</td>\n",
              "      <td>terciário</td>\n",
              "      <td>não</td>\n",
              "      <td>2143</td>\n",
              "      <td>sim</td>\n",
              "      <td>não</td>\n",
              "      <td>desconhecido</td>\n",
              "      <td>5</td>\n",
              "      <td>maio</td>\n",
              "      <td>261</td>\n",
              "      <td>1</td>\n",
              "      <td>-1</td>\n",
              "      <td>0</td>\n",
              "      <td>desconhecido</td>\n",
              "      <td>não</td>\n",
              "    </tr>\n",
              "    <tr>\n",
              "      <th>1</th>\n",
              "      <td>44</td>\n",
              "      <td>técnico</td>\n",
              "      <td>solteiro</td>\n",
              "      <td>secundário</td>\n",
              "      <td>não</td>\n",
              "      <td>29</td>\n",
              "      <td>sim</td>\n",
              "      <td>não</td>\n",
              "      <td>desconhecido</td>\n",
              "      <td>5</td>\n",
              "      <td>maio</td>\n",
              "      <td>151</td>\n",
              "      <td>1</td>\n",
              "      <td>-1</td>\n",
              "      <td>0</td>\n",
              "      <td>desconhecido</td>\n",
              "      <td>não</td>\n",
              "    </tr>\n",
              "    <tr>\n",
              "      <th>2</th>\n",
              "      <td>33</td>\n",
              "      <td>empreendedor</td>\n",
              "      <td>casado</td>\n",
              "      <td>secundário</td>\n",
              "      <td>não</td>\n",
              "      <td>2</td>\n",
              "      <td>sim</td>\n",
              "      <td>sim</td>\n",
              "      <td>desconhecido</td>\n",
              "      <td>5</td>\n",
              "      <td>maio</td>\n",
              "      <td>76</td>\n",
              "      <td>1</td>\n",
              "      <td>-1</td>\n",
              "      <td>0</td>\n",
              "      <td>desconhecido</td>\n",
              "      <td>não</td>\n",
              "    </tr>\n",
              "    <tr>\n",
              "      <th>3</th>\n",
              "      <td>47</td>\n",
              "      <td>trabalhador-manual</td>\n",
              "      <td>casado</td>\n",
              "      <td>desconhecido</td>\n",
              "      <td>não</td>\n",
              "      <td>1506</td>\n",
              "      <td>sim</td>\n",
              "      <td>não</td>\n",
              "      <td>desconhecido</td>\n",
              "      <td>5</td>\n",
              "      <td>maio</td>\n",
              "      <td>92</td>\n",
              "      <td>1</td>\n",
              "      <td>-1</td>\n",
              "      <td>0</td>\n",
              "      <td>desconhecido</td>\n",
              "      <td>não</td>\n",
              "    </tr>\n",
              "    <tr>\n",
              "      <th>4</th>\n",
              "      <td>33</td>\n",
              "      <td>desconhecido</td>\n",
              "      <td>solteiro</td>\n",
              "      <td>desconhecido</td>\n",
              "      <td>não</td>\n",
              "      <td>1</td>\n",
              "      <td>não</td>\n",
              "      <td>não</td>\n",
              "      <td>desconhecido</td>\n",
              "      <td>5</td>\n",
              "      <td>maio</td>\n",
              "      <td>198</td>\n",
              "      <td>1</td>\n",
              "      <td>-1</td>\n",
              "      <td>0</td>\n",
              "      <td>desconhecido</td>\n",
              "      <td>não</td>\n",
              "    </tr>\n",
              "  </tbody>\n",
              "</table>\n",
              "</div>\n",
              "      <button class=\"colab-df-convert\" onclick=\"convertToInteractive('df-bffc6d19-c834-4393-a666-1785bde1253a')\"\n",
              "              title=\"Convert this dataframe to an interactive table.\"\n",
              "              style=\"display:none;\">\n",
              "\n",
              "  <svg xmlns=\"http://www.w3.org/2000/svg\" height=\"24px\"viewBox=\"0 0 24 24\"\n",
              "       width=\"24px\">\n",
              "    <path d=\"M0 0h24v24H0V0z\" fill=\"none\"/>\n",
              "    <path d=\"M18.56 5.44l.94 2.06.94-2.06 2.06-.94-2.06-.94-.94-2.06-.94 2.06-2.06.94zm-11 1L8.5 8.5l.94-2.06 2.06-.94-2.06-.94L8.5 2.5l-.94 2.06-2.06.94zm10 10l.94 2.06.94-2.06 2.06-.94-2.06-.94-.94-2.06-.94 2.06-2.06.94z\"/><path d=\"M17.41 7.96l-1.37-1.37c-.4-.4-.92-.59-1.43-.59-.52 0-1.04.2-1.43.59L10.3 9.45l-7.72 7.72c-.78.78-.78 2.05 0 2.83L4 21.41c.39.39.9.59 1.41.59.51 0 1.02-.2 1.41-.59l7.78-7.78 2.81-2.81c.8-.78.8-2.07 0-2.86zM5.41 20L4 18.59l7.72-7.72 1.47 1.35L5.41 20z\"/>\n",
              "  </svg>\n",
              "      </button>\n",
              "\n",
              "\n",
              "\n",
              "    <div id=\"df-77fa3a40-377d-434b-be2d-c7e28cbcca5f\">\n",
              "      <button class=\"colab-df-quickchart\" onclick=\"quickchart('df-77fa3a40-377d-434b-be2d-c7e28cbcca5f')\"\n",
              "              title=\"Suggest charts.\"\n",
              "              style=\"display:none;\">\n",
              "\n",
              "<svg xmlns=\"http://www.w3.org/2000/svg\" height=\"24px\"viewBox=\"0 0 24 24\"\n",
              "     width=\"24px\">\n",
              "    <g>\n",
              "        <path d=\"M19 3H5c-1.1 0-2 .9-2 2v14c0 1.1.9 2 2 2h14c1.1 0 2-.9 2-2V5c0-1.1-.9-2-2-2zM9 17H7v-7h2v7zm4 0h-2V7h2v10zm4 0h-2v-4h2v4z\"/>\n",
              "    </g>\n",
              "</svg>\n",
              "      </button>\n",
              "    </div>\n",
              "\n",
              "<style>\n",
              "  .colab-df-quickchart {\n",
              "    background-color: #E8F0FE;\n",
              "    border: none;\n",
              "    border-radius: 50%;\n",
              "    cursor: pointer;\n",
              "    display: none;\n",
              "    fill: #1967D2;\n",
              "    height: 32px;\n",
              "    padding: 0 0 0 0;\n",
              "    width: 32px;\n",
              "  }\n",
              "\n",
              "  .colab-df-quickchart:hover {\n",
              "    background-color: #E2EBFA;\n",
              "    box-shadow: 0px 1px 2px rgba(60, 64, 67, 0.3), 0px 1px 3px 1px rgba(60, 64, 67, 0.15);\n",
              "    fill: #174EA6;\n",
              "  }\n",
              "\n",
              "  [theme=dark] .colab-df-quickchart {\n",
              "    background-color: #3B4455;\n",
              "    fill: #D2E3FC;\n",
              "  }\n",
              "\n",
              "  [theme=dark] .colab-df-quickchart:hover {\n",
              "    background-color: #434B5C;\n",
              "    box-shadow: 0px 1px 3px 1px rgba(0, 0, 0, 0.15);\n",
              "    filter: drop-shadow(0px 1px 2px rgba(0, 0, 0, 0.3));\n",
              "    fill: #FFFFFF;\n",
              "  }\n",
              "</style>\n",
              "\n",
              "    <script>\n",
              "      async function quickchart(key) {\n",
              "        const containerElement = document.querySelector('#' + key);\n",
              "        const charts = await google.colab.kernel.invokeFunction(\n",
              "            'suggestCharts', [key], {});\n",
              "      }\n",
              "    </script>\n",
              "\n",
              "      <script>\n",
              "\n",
              "function displayQuickchartButton(domScope) {\n",
              "  let quickchartButtonEl =\n",
              "    domScope.querySelector('#df-77fa3a40-377d-434b-be2d-c7e28cbcca5f button.colab-df-quickchart');\n",
              "  quickchartButtonEl.style.display =\n",
              "    google.colab.kernel.accessAllowed ? 'block' : 'none';\n",
              "}\n",
              "\n",
              "        displayQuickchartButton(document);\n",
              "      </script>\n",
              "      <style>\n",
              "    .colab-df-container {\n",
              "      display:flex;\n",
              "      flex-wrap:wrap;\n",
              "      gap: 12px;\n",
              "    }\n",
              "\n",
              "    .colab-df-convert {\n",
              "      background-color: #E8F0FE;\n",
              "      border: none;\n",
              "      border-radius: 50%;\n",
              "      cursor: pointer;\n",
              "      display: none;\n",
              "      fill: #1967D2;\n",
              "      height: 32px;\n",
              "      padding: 0 0 0 0;\n",
              "      width: 32px;\n",
              "    }\n",
              "\n",
              "    .colab-df-convert:hover {\n",
              "      background-color: #E2EBFA;\n",
              "      box-shadow: 0px 1px 2px rgba(60, 64, 67, 0.3), 0px 1px 3px 1px rgba(60, 64, 67, 0.15);\n",
              "      fill: #174EA6;\n",
              "    }\n",
              "\n",
              "    [theme=dark] .colab-df-convert {\n",
              "      background-color: #3B4455;\n",
              "      fill: #D2E3FC;\n",
              "    }\n",
              "\n",
              "    [theme=dark] .colab-df-convert:hover {\n",
              "      background-color: #434B5C;\n",
              "      box-shadow: 0px 1px 3px 1px rgba(0, 0, 0, 0.15);\n",
              "      filter: drop-shadow(0px 1px 2px rgba(0, 0, 0, 0.3));\n",
              "      fill: #FFFFFF;\n",
              "    }\n",
              "  </style>\n",
              "\n",
              "      <script>\n",
              "        const buttonEl =\n",
              "          document.querySelector('#df-bffc6d19-c834-4393-a666-1785bde1253a button.colab-df-convert');\n",
              "        buttonEl.style.display =\n",
              "          google.colab.kernel.accessAllowed ? 'block' : 'none';\n",
              "\n",
              "        async function convertToInteractive(key) {\n",
              "          const element = document.querySelector('#df-bffc6d19-c834-4393-a666-1785bde1253a');\n",
              "          const dataTable =\n",
              "            await google.colab.kernel.invokeFunction('convertToInteractive',\n",
              "                                                     [key], {});\n",
              "          if (!dataTable) return;\n",
              "\n",
              "          const docLinkHtml = 'Like what you see? Visit the ' +\n",
              "            '<a target=\"_blank\" href=https://colab.research.google.com/notebooks/data_table.ipynb>data table notebook</a>'\n",
              "            + ' to learn more about interactive tables.';\n",
              "          element.innerHTML = '';\n",
              "          dataTable['output_type'] = 'display_data';\n",
              "          await google.colab.output.renderOutput(dataTable, element);\n",
              "          const docLink = document.createElement('div');\n",
              "          docLink.innerHTML = docLinkHtml;\n",
              "          element.appendChild(docLink);\n",
              "        }\n",
              "      </script>\n",
              "    </div>\n",
              "  </div>\n"
            ]
          },
          "metadata": {},
          "execution_count": 5
        }
      ]
    },
    {
      "cell_type": "code",
      "source": [
        "#Visualização do Relatório na WEB\n",
        "from IPython.display import display, HTML\n",
        "\n",
        "# Crie o relatório de perfil usando o Pandas Profiling\n",
        "profile = ProfileReport(df)\n",
        "\n",
        "# Salve o relatório em HTML\n",
        "profile.to_file(\"output.html\")\n",
        "\n",
        "# Exiba o relatório de perfil\n",
        "display(HTML(profile.to_html()))"
      ],
      "metadata": {
        "id": "0K75vkGHFlo-"
      },
      "execution_count": null,
      "outputs": []
    },
    {
      "cell_type": "markdown",
      "source": [
        "# 3° Processamento de Dados"
      ],
      "metadata": {
        "id": "n1ehVzRIIwuo"
      }
    }
  ]
}