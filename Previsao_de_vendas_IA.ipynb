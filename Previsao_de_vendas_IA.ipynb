{
  "nbformat": 4,
  "nbformat_minor": 0,
  "metadata": {
    "colab": {
      "provenance": [],
      "authorship_tag": "ABX9TyMXAm1luuIcPge/Pb4F4JeD",
      "include_colab_link": true
    },
    "kernelspec": {
      "name": "python3",
      "display_name": "Python 3"
    },
    "language_info": {
      "name": "python"
    }
  },
  "cells": [
    {
      "cell_type": "markdown",
      "metadata": {
        "id": "view-in-github",
        "colab_type": "text"
      },
      "source": [
        "<a href=\"https://colab.research.google.com/github/derick1castro/Previsao-de-vendas/blob/main/Previsao_de_vendas_IA.ipynb\" target=\"_parent\"><img src=\"https://colab.research.google.com/assets/colab-badge.svg\" alt=\"Open In Colab\"/></a>"
      ]
    },
    {
      "cell_type": "markdown",
      "source": [
        "#1° Entendimento do Problema de Negócio\n"
      ],
      "metadata": {
        "id": "UBdmUt4_SREA"
      }
    },
    {
      "cell_type": "markdown",
      "source": [
        "A empresa solicitou a equipe de Ciência de Dados que desenvolvessem uma metodologia Preditiva que utilizasse IA com o objetivo de encontrar, entre seus Leads, quais são aqueles que estão mais propensos a comprarem seu produto, dada uma campanha de Marketing.\n",
        "\n",
        "Ou seja, a empresa quer saber se, o cliente fosse atingido por uma campanha de marketing, qual seria o resultado:\n",
        "\n",
        "O cliente compra\n",
        "\n",
        "ou\n",
        "\n",
        "O cliente não compra"
      ],
      "metadata": {
        "id": "AKfzB4CYEvJv"
      }
    },
    {
      "cell_type": "markdown",
      "source": [
        "#2° Análise Exploratória dos Dados"
      ],
      "metadata": {
        "id": "f2ynYTW2Ty76"
      }
    },
    {
      "cell_type": "code",
      "source": [
        "# Biblioteca Python para Análise de Dados\n",
        "!pip install pandas-profiling"
      ],
      "metadata": {
        "id": "lRxyGSqMFCX_"
      },
      "execution_count": null,
      "outputs": []
    },
    {
      "cell_type": "code",
      "source": [
        "# Biblioteca Python para Realizar o acesso aos Dados\n",
        "!pip install gdown"
      ],
      "metadata": {
        "id": "OeHgGVCaFYsZ"
      },
      "execution_count": null,
      "outputs": []
    },
    {
      "cell_type": "code",
      "source": [
        "#Bibliotecas a serem utilizadas\n",
        "import gdown\n",
        "import pandas as pd\n",
        "import numpy as np\n",
        "from pandas_profiling import ProfileReport"
      ],
      "metadata": {
        "id": "UzEBvV69Fa4B"
      },
      "execution_count": 11,
      "outputs": []
    },
    {
      "cell_type": "markdown",
      "source": [
        "Caminho para o download dos dados utilizados para a análise dos Dados."
      ],
      "metadata": {
        "id": "NDdwX5soFdpw"
      }
    },
    {
      "cell_type": "code",
      "source": [
        "# URL do arquivo do Google Drive\n",
        "url = 'https://drive.google.com/file/d/1_kq8cZ4JZVsYw0BamYfiohSngLIJkoVb/view?usp=sharing'\n",
        "output = 'dataset.csv'  # nome do arquivo que será salvo localmente\n",
        "\n",
        "# Transformando o link compartilhado em um link direto para download\n",
        "file_id = url.split('/')[-2]\n",
        "dwn_url='https://drive.google.com/uc?id=' + file_id\n",
        "\n",
        "# Fazendo o download do arquivo\n",
        "gdown.download(dwn_url, output, quiet=False)"
      ],
      "metadata": {
        "id": "rxHWmTweFhdl"
      },
      "execution_count": null,
      "outputs": []
    },
    {
      "cell_type": "code",
      "source": [
        "# Carregando o arquivo CSV com o pandas\n",
        "df = pd.read_csv(output, delimiter=',')\n",
        "\n",
        "# Mostrando as primeiras linhas do dataframe\n",
        "df.head()"
      ],
      "metadata": {
        "colab": {
          "base_uri": "https://localhost:8080/",
          "height": 288
        },
        "id": "8XmTj4kWFjkj",
        "outputId": "5ef839e8-2834-46c7-a476-75343da70841"
      },
      "execution_count": 5,
      "outputs": [
        {
          "output_type": "execute_result",
          "data": {
            "text/plain": [
              "   idade             emprego estado_civil      educacao padrao  saldo moradia  \\\n",
              "0     58             gerente       casado     terciário    não   2143     sim   \n",
              "1     44             técnico     solteiro    secundário    não     29     sim   \n",
              "2     33        empreendedor       casado    secundário    não      2     sim   \n",
              "3     47  trabalhador-manual       casado  desconhecido    não   1506     sim   \n",
              "4     33        desconhecido     solteiro  desconhecido    não      1     não   \n",
              "\n",
              "  emprestimo       contato  dia   mes  duracao  campanha  dias_passados  \\\n",
              "0        não  desconhecido    5  maio      261         1             -1   \n",
              "1        não  desconhecido    5  maio      151         1             -1   \n",
              "2        sim  desconhecido    5  maio       76         1             -1   \n",
              "3        não  desconhecido    5  maio       92         1             -1   \n",
              "4        não  desconhecido    5  maio      198         1             -1   \n",
              "\n",
              "   anterior resultado_anterior prevendas  \n",
              "0         0       desconhecido       não  \n",
              "1         0       desconhecido       não  \n",
              "2         0       desconhecido       não  \n",
              "3         0       desconhecido       não  \n",
              "4         0       desconhecido       não  "
            ],
            "text/html": [
              "\n",
              "\n",
              "  <div id=\"df-bffc6d19-c834-4393-a666-1785bde1253a\">\n",
              "    <div class=\"colab-df-container\">\n",
              "      <div>\n",
              "<style scoped>\n",
              "    .dataframe tbody tr th:only-of-type {\n",
              "        vertical-align: middle;\n",
              "    }\n",
              "\n",
              "    .dataframe tbody tr th {\n",
              "        vertical-align: top;\n",
              "    }\n",
              "\n",
              "    .dataframe thead th {\n",
              "        text-align: right;\n",
              "    }\n",
              "</style>\n",
              "<table border=\"1\" class=\"dataframe\">\n",
              "  <thead>\n",
              "    <tr style=\"text-align: right;\">\n",
              "      <th></th>\n",
              "      <th>idade</th>\n",
              "      <th>emprego</th>\n",
              "      <th>estado_civil</th>\n",
              "      <th>educacao</th>\n",
              "      <th>padrao</th>\n",
              "      <th>saldo</th>\n",
              "      <th>moradia</th>\n",
              "      <th>emprestimo</th>\n",
              "      <th>contato</th>\n",
              "      <th>dia</th>\n",
              "      <th>mes</th>\n",
              "      <th>duracao</th>\n",
              "      <th>campanha</th>\n",
              "      <th>dias_passados</th>\n",
              "      <th>anterior</th>\n",
              "      <th>resultado_anterior</th>\n",
              "      <th>prevendas</th>\n",
              "    </tr>\n",
              "  </thead>\n",
              "  <tbody>\n",
              "    <tr>\n",
              "      <th>0</th>\n",
              "      <td>58</td>\n",
              "      <td>gerente</td>\n",
              "      <td>casado</td>\n",
              "      <td>terciário</td>\n",
              "      <td>não</td>\n",
              "      <td>2143</td>\n",
              "      <td>sim</td>\n",
              "      <td>não</td>\n",
              "      <td>desconhecido</td>\n",
              "      <td>5</td>\n",
              "      <td>maio</td>\n",
              "      <td>261</td>\n",
              "      <td>1</td>\n",
              "      <td>-1</td>\n",
              "      <td>0</td>\n",
              "      <td>desconhecido</td>\n",
              "      <td>não</td>\n",
              "    </tr>\n",
              "    <tr>\n",
              "      <th>1</th>\n",
              "      <td>44</td>\n",
              "      <td>técnico</td>\n",
              "      <td>solteiro</td>\n",
              "      <td>secundário</td>\n",
              "      <td>não</td>\n",
              "      <td>29</td>\n",
              "      <td>sim</td>\n",
              "      <td>não</td>\n",
              "      <td>desconhecido</td>\n",
              "      <td>5</td>\n",
              "      <td>maio</td>\n",
              "      <td>151</td>\n",
              "      <td>1</td>\n",
              "      <td>-1</td>\n",
              "      <td>0</td>\n",
              "      <td>desconhecido</td>\n",
              "      <td>não</td>\n",
              "    </tr>\n",
              "    <tr>\n",
              "      <th>2</th>\n",
              "      <td>33</td>\n",
              "      <td>empreendedor</td>\n",
              "      <td>casado</td>\n",
              "      <td>secundário</td>\n",
              "      <td>não</td>\n",
              "      <td>2</td>\n",
              "      <td>sim</td>\n",
              "      <td>sim</td>\n",
              "      <td>desconhecido</td>\n",
              "      <td>5</td>\n",
              "      <td>maio</td>\n",
              "      <td>76</td>\n",
              "      <td>1</td>\n",
              "      <td>-1</td>\n",
              "      <td>0</td>\n",
              "      <td>desconhecido</td>\n",
              "      <td>não</td>\n",
              "    </tr>\n",
              "    <tr>\n",
              "      <th>3</th>\n",
              "      <td>47</td>\n",
              "      <td>trabalhador-manual</td>\n",
              "      <td>casado</td>\n",
              "      <td>desconhecido</td>\n",
              "      <td>não</td>\n",
              "      <td>1506</td>\n",
              "      <td>sim</td>\n",
              "      <td>não</td>\n",
              "      <td>desconhecido</td>\n",
              "      <td>5</td>\n",
              "      <td>maio</td>\n",
              "      <td>92</td>\n",
              "      <td>1</td>\n",
              "      <td>-1</td>\n",
              "      <td>0</td>\n",
              "      <td>desconhecido</td>\n",
              "      <td>não</td>\n",
              "    </tr>\n",
              "    <tr>\n",
              "      <th>4</th>\n",
              "      <td>33</td>\n",
              "      <td>desconhecido</td>\n",
              "      <td>solteiro</td>\n",
              "      <td>desconhecido</td>\n",
              "      <td>não</td>\n",
              "      <td>1</td>\n",
              "      <td>não</td>\n",
              "      <td>não</td>\n",
              "      <td>desconhecido</td>\n",
              "      <td>5</td>\n",
              "      <td>maio</td>\n",
              "      <td>198</td>\n",
              "      <td>1</td>\n",
              "      <td>-1</td>\n",
              "      <td>0</td>\n",
              "      <td>desconhecido</td>\n",
              "      <td>não</td>\n",
              "    </tr>\n",
              "  </tbody>\n",
              "</table>\n",
              "</div>\n",
              "      <button class=\"colab-df-convert\" onclick=\"convertToInteractive('df-bffc6d19-c834-4393-a666-1785bde1253a')\"\n",
              "              title=\"Convert this dataframe to an interactive table.\"\n",
              "              style=\"display:none;\">\n",
              "\n",
              "  <svg xmlns=\"http://www.w3.org/2000/svg\" height=\"24px\"viewBox=\"0 0 24 24\"\n",
              "       width=\"24px\">\n",
              "    <path d=\"M0 0h24v24H0V0z\" fill=\"none\"/>\n",
              "    <path d=\"M18.56 5.44l.94 2.06.94-2.06 2.06-.94-2.06-.94-.94-2.06-.94 2.06-2.06.94zm-11 1L8.5 8.5l.94-2.06 2.06-.94-2.06-.94L8.5 2.5l-.94 2.06-2.06.94zm10 10l.94 2.06.94-2.06 2.06-.94-2.06-.94-.94-2.06-.94 2.06-2.06.94z\"/><path d=\"M17.41 7.96l-1.37-1.37c-.4-.4-.92-.59-1.43-.59-.52 0-1.04.2-1.43.59L10.3 9.45l-7.72 7.72c-.78.78-.78 2.05 0 2.83L4 21.41c.39.39.9.59 1.41.59.51 0 1.02-.2 1.41-.59l7.78-7.78 2.81-2.81c.8-.78.8-2.07 0-2.86zM5.41 20L4 18.59l7.72-7.72 1.47 1.35L5.41 20z\"/>\n",
              "  </svg>\n",
              "      </button>\n",
              "\n",
              "\n",
              "\n",
              "    <div id=\"df-77fa3a40-377d-434b-be2d-c7e28cbcca5f\">\n",
              "      <button class=\"colab-df-quickchart\" onclick=\"quickchart('df-77fa3a40-377d-434b-be2d-c7e28cbcca5f')\"\n",
              "              title=\"Suggest charts.\"\n",
              "              style=\"display:none;\">\n",
              "\n",
              "<svg xmlns=\"http://www.w3.org/2000/svg\" height=\"24px\"viewBox=\"0 0 24 24\"\n",
              "     width=\"24px\">\n",
              "    <g>\n",
              "        <path d=\"M19 3H5c-1.1 0-2 .9-2 2v14c0 1.1.9 2 2 2h14c1.1 0 2-.9 2-2V5c0-1.1-.9-2-2-2zM9 17H7v-7h2v7zm4 0h-2V7h2v10zm4 0h-2v-4h2v4z\"/>\n",
              "    </g>\n",
              "</svg>\n",
              "      </button>\n",
              "    </div>\n",
              "\n",
              "<style>\n",
              "  .colab-df-quickchart {\n",
              "    background-color: #E8F0FE;\n",
              "    border: none;\n",
              "    border-radius: 50%;\n",
              "    cursor: pointer;\n",
              "    display: none;\n",
              "    fill: #1967D2;\n",
              "    height: 32px;\n",
              "    padding: 0 0 0 0;\n",
              "    width: 32px;\n",
              "  }\n",
              "\n",
              "  .colab-df-quickchart:hover {\n",
              "    background-color: #E2EBFA;\n",
              "    box-shadow: 0px 1px 2px rgba(60, 64, 67, 0.3), 0px 1px 3px 1px rgba(60, 64, 67, 0.15);\n",
              "    fill: #174EA6;\n",
              "  }\n",
              "\n",
              "  [theme=dark] .colab-df-quickchart {\n",
              "    background-color: #3B4455;\n",
              "    fill: #D2E3FC;\n",
              "  }\n",
              "\n",
              "  [theme=dark] .colab-df-quickchart:hover {\n",
              "    background-color: #434B5C;\n",
              "    box-shadow: 0px 1px 3px 1px rgba(0, 0, 0, 0.15);\n",
              "    filter: drop-shadow(0px 1px 2px rgba(0, 0, 0, 0.3));\n",
              "    fill: #FFFFFF;\n",
              "  }\n",
              "</style>\n",
              "\n",
              "    <script>\n",
              "      async function quickchart(key) {\n",
              "        const containerElement = document.querySelector('#' + key);\n",
              "        const charts = await google.colab.kernel.invokeFunction(\n",
              "            'suggestCharts', [key], {});\n",
              "      }\n",
              "    </script>\n",
              "\n",
              "      <script>\n",
              "\n",
              "function displayQuickchartButton(domScope) {\n",
              "  let quickchartButtonEl =\n",
              "    domScope.querySelector('#df-77fa3a40-377d-434b-be2d-c7e28cbcca5f button.colab-df-quickchart');\n",
              "  quickchartButtonEl.style.display =\n",
              "    google.colab.kernel.accessAllowed ? 'block' : 'none';\n",
              "}\n",
              "\n",
              "        displayQuickchartButton(document);\n",
              "      </script>\n",
              "      <style>\n",
              "    .colab-df-container {\n",
              "      display:flex;\n",
              "      flex-wrap:wrap;\n",
              "      gap: 12px;\n",
              "    }\n",
              "\n",
              "    .colab-df-convert {\n",
              "      background-color: #E8F0FE;\n",
              "      border: none;\n",
              "      border-radius: 50%;\n",
              "      cursor: pointer;\n",
              "      display: none;\n",
              "      fill: #1967D2;\n",
              "      height: 32px;\n",
              "      padding: 0 0 0 0;\n",
              "      width: 32px;\n",
              "    }\n",
              "\n",
              "    .colab-df-convert:hover {\n",
              "      background-color: #E2EBFA;\n",
              "      box-shadow: 0px 1px 2px rgba(60, 64, 67, 0.3), 0px 1px 3px 1px rgba(60, 64, 67, 0.15);\n",
              "      fill: #174EA6;\n",
              "    }\n",
              "\n",
              "    [theme=dark] .colab-df-convert {\n",
              "      background-color: #3B4455;\n",
              "      fill: #D2E3FC;\n",
              "    }\n",
              "\n",
              "    [theme=dark] .colab-df-convert:hover {\n",
              "      background-color: #434B5C;\n",
              "      box-shadow: 0px 1px 3px 1px rgba(0, 0, 0, 0.15);\n",
              "      filter: drop-shadow(0px 1px 2px rgba(0, 0, 0, 0.3));\n",
              "      fill: #FFFFFF;\n",
              "    }\n",
              "  </style>\n",
              "\n",
              "      <script>\n",
              "        const buttonEl =\n",
              "          document.querySelector('#df-bffc6d19-c834-4393-a666-1785bde1253a button.colab-df-convert');\n",
              "        buttonEl.style.display =\n",
              "          google.colab.kernel.accessAllowed ? 'block' : 'none';\n",
              "\n",
              "        async function convertToInteractive(key) {\n",
              "          const element = document.querySelector('#df-bffc6d19-c834-4393-a666-1785bde1253a');\n",
              "          const dataTable =\n",
              "            await google.colab.kernel.invokeFunction('convertToInteractive',\n",
              "                                                     [key], {});\n",
              "          if (!dataTable) return;\n",
              "\n",
              "          const docLinkHtml = 'Like what you see? Visit the ' +\n",
              "            '<a target=\"_blank\" href=https://colab.research.google.com/notebooks/data_table.ipynb>data table notebook</a>'\n",
              "            + ' to learn more about interactive tables.';\n",
              "          element.innerHTML = '';\n",
              "          dataTable['output_type'] = 'display_data';\n",
              "          await google.colab.output.renderOutput(dataTable, element);\n",
              "          const docLink = document.createElement('div');\n",
              "          docLink.innerHTML = docLinkHtml;\n",
              "          element.appendChild(docLink);\n",
              "        }\n",
              "      </script>\n",
              "    </div>\n",
              "  </div>\n"
            ]
          },
          "metadata": {},
          "execution_count": 5
        }
      ]
    },
    {
      "cell_type": "code",
      "source": [
        "#Visualização do Relatório na WEB\n",
        "from IPython.display import display, HTML\n",
        "\n",
        "# Crie o relatório de perfil usando o Pandas Profiling\n",
        "profile = ProfileReport(df)\n",
        "\n",
        "# Salve o relatório em HTML\n",
        "profile.to_file(\"output.html\")\n",
        "\n",
        "# Exiba o relatório de perfil\n",
        "display(HTML(profile.to_html()))"
      ],
      "metadata": {
        "id": "0K75vkGHFlo-"
      },
      "execution_count": null,
      "outputs": []
    },
    {
      "cell_type": "markdown",
      "source": [
        "# 3° Processamento de Dados"
      ],
      "metadata": {
        "id": "n1ehVzRIIwuo"
      }
    },
    {
      "cell_type": "markdown",
      "source": [
        "### Importação das bibliotecas"
      ],
      "metadata": {
        "id": "fmi918Sb7jIR"
      }
    },
    {
      "cell_type": "code",
      "source": [
        "# Bibliotecas de IA - Machine Learning e Automações\n",
        "from sklearn.pipeline import make_pipeline\n",
        "from sklearn.model_selection import train_test_split\n",
        "from sklearn.preprocessing import StandardScaler, OneHotEncoder\n",
        "from sklearn.compose import ColumnTransformer\n",
        "from imblearn.over_sampling import SMOTE\n",
        "from lightgbm import LGBMClassifier\n",
        "from sklearn.metrics import classification_report, accuracy_score\n",
        "import pickle"
      ],
      "metadata": {
        "id": "8ymfOyrPPZyj"
      },
      "execution_count": 8,
      "outputs": []
    },
    {
      "cell_type": "markdown",
      "source": [
        "### Amostragem dos dados"
      ],
      "metadata": {
        "id": "hbAKOU4B8MSN"
      }
    },
    {
      "cell_type": "code",
      "source": [
        "# Separar features e target\n",
        "X = df.drop('prevendas', axis=1)\n",
        "y = df['prevendas']\n",
        "\n",
        "# Dividir os dados em conjuntos de treinamento e teste\n",
        "X_train, X_test, y_train, y_test = train_test_split(X, y, test_size=0.2, random_state=42)"
      ],
      "metadata": {
        "id": "8UsSK51J8I-B"
      },
      "execution_count": 9,
      "outputs": []
    },
    {
      "cell_type": "markdown",
      "source": [
        "### Engenharia de Atributos"
      ],
      "metadata": {
        "id": "MzXQ9zfI8W-d"
      }
    },
    {
      "cell_type": "code",
      "source": [
        "# Listar as colunas numéricas e categóricas\n",
        "numeric_features = X.select_dtypes(include=[np.number]).columns\n",
        "categorical_features = X.select_dtypes(include=['object']).columns\n",
        "\n",
        "# Criar os transformers para pré-processamento\n",
        "numeric_transformer = StandardScaler()\n",
        "categorical_transformer = OneHotEncoder(sparse=False)\n",
        "\n",
        "# Criar o ColumnTransformer para aplicar as transformações nas colunas apropriadas\n",
        "preprocessor = ColumnTransformer(\n",
        "    transformers=[\n",
        "        ('num', numeric_transformer, numeric_features),\n",
        "        ('cat', categorical_transformer, categorical_features)\n",
        "    ])\n",
        "\n",
        "# Aplicar as transformações no preprocessor\n",
        "X_train_preprocessed = preprocessor.fit_transform(X_train)\n",
        "numeric_columns = numeric_features.tolist()\n",
        "categorical_columns = preprocessor.transformers_[1][1].get_feature_names_out(categorical_features)\n",
        "all_columns = numeric_columns + list(categorical_columns)\n",
        "X_train_preprocessed = pd.DataFrame(X_train_preprocessed, columns=all_columns)\n",
        "\n"
      ],
      "metadata": {
        "id": "exHEsVPu8VlE"
      },
      "execution_count": null,
      "outputs": []
    },
    {
      "cell_type": "code",
      "source": [
        "# Cria Dados Sintéticos para resolver o problema de Desbalanceamento do Target\n",
        "sm = SMOTE(random_state=42)\n",
        "X_train_resampled, y_train_resampled = sm.fit_resample(X_train_preprocessed, y_train)\n"
      ],
      "metadata": {
        "id": "jEGNDJX3Pvxn"
      },
      "execution_count": 13,
      "outputs": []
    },
    {
      "cell_type": "markdown",
      "source": [
        "#4° Construção e Avaliação da IA Preditiva de Vendas"
      ],
      "metadata": {
        "id": "9-9JOi058tBg"
      }
    },
    {
      "cell_type": "markdown",
      "source": [
        "### Escolha do Algoritmo de Machine Learning e Treinamento com os Dados"
      ],
      "metadata": {
        "id": "c14LI4u38zo1"
      }
    },
    {
      "cell_type": "code",
      "source": [
        "# Escolher um algoritmo de aprendizado de máquina\n",
        "model = LGBMClassifier(n_estimators=200)\n",
        "\n",
        "# Treinar o modelo no conjunto de treinamento\n",
        "pipeline = make_pipeline(model)\n",
        "pipeline.fit(X_train_resampled, y_train_resampled)\n",
        "\n",
        "# Aplicar as mesmas transformações no conjunto de teste\n",
        "X_test_preprocessed = preprocessor.transform(X_test)\n",
        "X_test_preprocessed = pd.DataFrame(X_test_preprocessed, columns=all_columns)"
      ],
      "metadata": {
        "id": "RBfYHxfoZkjJ"
      },
      "execution_count": 14,
      "outputs": []
    },
    {
      "cell_type": "markdown",
      "source": [
        "### Avaliação da IA com as Métricas"
      ],
      "metadata": {
        "id": "_R99pp1988nn"
      }
    },
    {
      "cell_type": "code",
      "source": [
        "# Avaliar o modelo no conjunto de teste\n",
        "y_pred = pipeline.predict(X_test_preprocessed)\n",
        "\n",
        "# Métricas de avaliação\n",
        "print('Acurácia:', accuracy_score(y_test, y_pred))\n",
        "print('\\nClassification Report:\\n', classification_report(y_test, y_pred))"
      ],
      "metadata": {
        "colab": {
          "base_uri": "https://localhost:8080/"
        },
        "id": "_GVL6HY4Zo8-",
        "outputId": "bd5a0474-e811-4a3f-8c5d-7b6b946f2623"
      },
      "execution_count": 15,
      "outputs": [
        {
          "output_type": "stream",
          "name": "stdout",
          "text": [
            "Acurácia: 0.910206789782152\n",
            "\n",
            "Classification Report:\n",
            "               precision    recall  f1-score   support\n",
            "\n",
            "         não       0.95      0.95      0.95      7952\n",
            "         sim       0.64      0.60      0.62      1091\n",
            "\n",
            "    accuracy                           0.91      9043\n",
            "   macro avg       0.79      0.77      0.78      9043\n",
            "weighted avg       0.91      0.91      0.91      9043\n",
            "\n"
          ]
        }
      ]
    },
    {
      "cell_type": "markdown",
      "source": [
        "### Lista das Variáveis mais Importantes da IA"
      ],
      "metadata": {
        "id": "ta20BnXQ9Keu"
      }
    },
    {
      "cell_type": "code",
      "source": [
        "import plotly.express as px\n",
        "import plotly.graph_objects as go\n",
        "\n",
        "# Obter a importância das variáveis\n",
        "importance = pipeline.named_steps['lgbmclassifier'].feature_importances_\n",
        "feature_names = all_columns\n",
        "\n",
        "# Criar um DataFrame com a importância das variáveis\n",
        "importance_df = pd.DataFrame({'Feature': feature_names, 'Importance': importance})\n",
        "\n",
        "# Ordenar o DataFrame pela importância das variáveis em ordem decrescente\n",
        "importance_df = importance_df.sort_values(by='Importance', ascending=False)\n",
        "\n",
        "# Criar o gráfico de barras da importância das variáveis usando o Plotly\n",
        "fig = go.Figure(data=[go.Bar(x=importance_df['Importance'], y=importance_df['Feature'], orientation='h')])\n",
        "fig.update_layout(\n",
        "    title='Importância das Variáveis',\n",
        "    xaxis_title='Importância',\n",
        "    yaxis_title='Variáveis'\n",
        ")\n",
        "# Inverta a ordem do eixo y para que o recurso mais importante esteja no topo\n",
        "fig.update_yaxes(autorange=\"reversed\")\n",
        "\n",
        "fig.show()"
      ],
      "metadata": {
        "colab": {
          "base_uri": "https://localhost:8080/",
          "height": 542
        },
        "id": "-up4oviAZtWz",
        "outputId": "cc1987bd-fb46-449f-ecbb-eca60103e153"
      },
      "execution_count": 16,
      "outputs": [
        {
          "output_type": "display_data",
          "data": {
            "text/html": [
              "<html>\n",
              "<head><meta charset=\"utf-8\" /></head>\n",
              "<body>\n",
              "    <div>            <script src=\"https://cdnjs.cloudflare.com/ajax/libs/mathjax/2.7.5/MathJax.js?config=TeX-AMS-MML_SVG\"></script><script type=\"text/javascript\">if (window.MathJax && window.MathJax.Hub && window.MathJax.Hub.Config) {window.MathJax.Hub.Config({SVG: {font: \"STIX-Web\"}});}</script>                <script type=\"text/javascript\">window.PlotlyConfig = {MathJaxConfig: 'local'};</script>\n",
              "        <script src=\"https://cdn.plot.ly/plotly-2.18.2.min.js\"></script>                <div id=\"1fa84af5-8d66-403f-b71c-0b7a8e47bd2f\" class=\"plotly-graph-div\" style=\"height:525px; width:100%;\"></div>            <script type=\"text/javascript\">                                    window.PLOTLYENV=window.PLOTLYENV || {};                                    if (document.getElementById(\"1fa84af5-8d66-403f-b71c-0b7a8e47bd2f\")) {                    Plotly.newPlot(                        \"1fa84af5-8d66-403f-b71c-0b7a8e47bd2f\",                        [{\"orientation\":\"h\",\"x\":[810,768,731,532,467,210,113,106,102,99,98,94,93,93,92,87,84,82,79,67,65,65,63,62,60,59,59,58,56,55,54,49,46,44,43,36,36,34,33,31,30,29,28,23,15,15,13,12,11,9,0],\"y\":[\"duracao\",\"dia\",\"idade\",\"saldo\",\"campanha\",\"dias_passados\",\"moradia_n\\u00e3o\",\"mes_maio\",\"mes_fevereiro\",\"mes_julho\",\"mes_outubro\",\"mes_abril\",\"mes_agosto\",\"mes_junho\",\"anterior\",\"mes_novembro\",\"contato_desconhecido\",\"contato_celular\",\"mes_mar\\u00e7o\",\"emprestimo_n\\u00e3o\",\"emprego_t\\u00e9cnico\",\"estado_civil_casado\",\"emprego_administrativo\",\"educacao_secund\\u00e1rio\",\"emprego_trabalhador-manual\",\"educacao_terci\\u00e1rio\",\"resultado_anterior_sucesso\",\"estado_civil_divorciado\",\"mes_setembro\",\"emprego_servi\\u00e7os\",\"mes_janeiro\",\"resultado_anterior_fracasso\",\"emprego_gerente\",\"educacao_prim\\u00e1rio\",\"educacao_desconhecido\",\"estado_civil_solteiro\",\"emprego_desempregado\",\"emprego_aut\\u00f4nomo\",\"emprego_empreendedor\",\"resultado_anterior_outro\",\"emprego_dom\\u00e9stica\",\"emprego_aposentado\",\"mes_dezembro\",\"padrao_n\\u00e3o\",\"contato_telefone\",\"moradia_sim\",\"emprego_estudante\",\"emprego_desconhecido\",\"resultado_anterior_desconhecido\",\"emprestimo_sim\",\"padrao_sim\"],\"type\":\"bar\"}],                        {\"template\":{\"data\":{\"histogram2dcontour\":[{\"type\":\"histogram2dcontour\",\"colorbar\":{\"outlinewidth\":0,\"ticks\":\"\"},\"colorscale\":[[0.0,\"#0d0887\"],[0.1111111111111111,\"#46039f\"],[0.2222222222222222,\"#7201a8\"],[0.3333333333333333,\"#9c179e\"],[0.4444444444444444,\"#bd3786\"],[0.5555555555555556,\"#d8576b\"],[0.6666666666666666,\"#ed7953\"],[0.7777777777777778,\"#fb9f3a\"],[0.8888888888888888,\"#fdca26\"],[1.0,\"#f0f921\"]]}],\"choropleth\":[{\"type\":\"choropleth\",\"colorbar\":{\"outlinewidth\":0,\"ticks\":\"\"}}],\"histogram2d\":[{\"type\":\"histogram2d\",\"colorbar\":{\"outlinewidth\":0,\"ticks\":\"\"},\"colorscale\":[[0.0,\"#0d0887\"],[0.1111111111111111,\"#46039f\"],[0.2222222222222222,\"#7201a8\"],[0.3333333333333333,\"#9c179e\"],[0.4444444444444444,\"#bd3786\"],[0.5555555555555556,\"#d8576b\"],[0.6666666666666666,\"#ed7953\"],[0.7777777777777778,\"#fb9f3a\"],[0.8888888888888888,\"#fdca26\"],[1.0,\"#f0f921\"]]}],\"heatmap\":[{\"type\":\"heatmap\",\"colorbar\":{\"outlinewidth\":0,\"ticks\":\"\"},\"colorscale\":[[0.0,\"#0d0887\"],[0.1111111111111111,\"#46039f\"],[0.2222222222222222,\"#7201a8\"],[0.3333333333333333,\"#9c179e\"],[0.4444444444444444,\"#bd3786\"],[0.5555555555555556,\"#d8576b\"],[0.6666666666666666,\"#ed7953\"],[0.7777777777777778,\"#fb9f3a\"],[0.8888888888888888,\"#fdca26\"],[1.0,\"#f0f921\"]]}],\"heatmapgl\":[{\"type\":\"heatmapgl\",\"colorbar\":{\"outlinewidth\":0,\"ticks\":\"\"},\"colorscale\":[[0.0,\"#0d0887\"],[0.1111111111111111,\"#46039f\"],[0.2222222222222222,\"#7201a8\"],[0.3333333333333333,\"#9c179e\"],[0.4444444444444444,\"#bd3786\"],[0.5555555555555556,\"#d8576b\"],[0.6666666666666666,\"#ed7953\"],[0.7777777777777778,\"#fb9f3a\"],[0.8888888888888888,\"#fdca26\"],[1.0,\"#f0f921\"]]}],\"contourcarpet\":[{\"type\":\"contourcarpet\",\"colorbar\":{\"outlinewidth\":0,\"ticks\":\"\"}}],\"contour\":[{\"type\":\"contour\",\"colorbar\":{\"outlinewidth\":0,\"ticks\":\"\"},\"colorscale\":[[0.0,\"#0d0887\"],[0.1111111111111111,\"#46039f\"],[0.2222222222222222,\"#7201a8\"],[0.3333333333333333,\"#9c179e\"],[0.4444444444444444,\"#bd3786\"],[0.5555555555555556,\"#d8576b\"],[0.6666666666666666,\"#ed7953\"],[0.7777777777777778,\"#fb9f3a\"],[0.8888888888888888,\"#fdca26\"],[1.0,\"#f0f921\"]]}],\"surface\":[{\"type\":\"surface\",\"colorbar\":{\"outlinewidth\":0,\"ticks\":\"\"},\"colorscale\":[[0.0,\"#0d0887\"],[0.1111111111111111,\"#46039f\"],[0.2222222222222222,\"#7201a8\"],[0.3333333333333333,\"#9c179e\"],[0.4444444444444444,\"#bd3786\"],[0.5555555555555556,\"#d8576b\"],[0.6666666666666666,\"#ed7953\"],[0.7777777777777778,\"#fb9f3a\"],[0.8888888888888888,\"#fdca26\"],[1.0,\"#f0f921\"]]}],\"mesh3d\":[{\"type\":\"mesh3d\",\"colorbar\":{\"outlinewidth\":0,\"ticks\":\"\"}}],\"scatter\":[{\"fillpattern\":{\"fillmode\":\"overlay\",\"size\":10,\"solidity\":0.2},\"type\":\"scatter\"}],\"parcoords\":[{\"type\":\"parcoords\",\"line\":{\"colorbar\":{\"outlinewidth\":0,\"ticks\":\"\"}}}],\"scatterpolargl\":[{\"type\":\"scatterpolargl\",\"marker\":{\"colorbar\":{\"outlinewidth\":0,\"ticks\":\"\"}}}],\"bar\":[{\"error_x\":{\"color\":\"#2a3f5f\"},\"error_y\":{\"color\":\"#2a3f5f\"},\"marker\":{\"line\":{\"color\":\"#E5ECF6\",\"width\":0.5},\"pattern\":{\"fillmode\":\"overlay\",\"size\":10,\"solidity\":0.2}},\"type\":\"bar\"}],\"scattergeo\":[{\"type\":\"scattergeo\",\"marker\":{\"colorbar\":{\"outlinewidth\":0,\"ticks\":\"\"}}}],\"scatterpolar\":[{\"type\":\"scatterpolar\",\"marker\":{\"colorbar\":{\"outlinewidth\":0,\"ticks\":\"\"}}}],\"histogram\":[{\"marker\":{\"pattern\":{\"fillmode\":\"overlay\",\"size\":10,\"solidity\":0.2}},\"type\":\"histogram\"}],\"scattergl\":[{\"type\":\"scattergl\",\"marker\":{\"colorbar\":{\"outlinewidth\":0,\"ticks\":\"\"}}}],\"scatter3d\":[{\"type\":\"scatter3d\",\"line\":{\"colorbar\":{\"outlinewidth\":0,\"ticks\":\"\"}},\"marker\":{\"colorbar\":{\"outlinewidth\":0,\"ticks\":\"\"}}}],\"scattermapbox\":[{\"type\":\"scattermapbox\",\"marker\":{\"colorbar\":{\"outlinewidth\":0,\"ticks\":\"\"}}}],\"scatterternary\":[{\"type\":\"scatterternary\",\"marker\":{\"colorbar\":{\"outlinewidth\":0,\"ticks\":\"\"}}}],\"scattercarpet\":[{\"type\":\"scattercarpet\",\"marker\":{\"colorbar\":{\"outlinewidth\":0,\"ticks\":\"\"}}}],\"carpet\":[{\"aaxis\":{\"endlinecolor\":\"#2a3f5f\",\"gridcolor\":\"white\",\"linecolor\":\"white\",\"minorgridcolor\":\"white\",\"startlinecolor\":\"#2a3f5f\"},\"baxis\":{\"endlinecolor\":\"#2a3f5f\",\"gridcolor\":\"white\",\"linecolor\":\"white\",\"minorgridcolor\":\"white\",\"startlinecolor\":\"#2a3f5f\"},\"type\":\"carpet\"}],\"table\":[{\"cells\":{\"fill\":{\"color\":\"#EBF0F8\"},\"line\":{\"color\":\"white\"}},\"header\":{\"fill\":{\"color\":\"#C8D4E3\"},\"line\":{\"color\":\"white\"}},\"type\":\"table\"}],\"barpolar\":[{\"marker\":{\"line\":{\"color\":\"#E5ECF6\",\"width\":0.5},\"pattern\":{\"fillmode\":\"overlay\",\"size\":10,\"solidity\":0.2}},\"type\":\"barpolar\"}],\"pie\":[{\"automargin\":true,\"type\":\"pie\"}]},\"layout\":{\"autotypenumbers\":\"strict\",\"colorway\":[\"#636efa\",\"#EF553B\",\"#00cc96\",\"#ab63fa\",\"#FFA15A\",\"#19d3f3\",\"#FF6692\",\"#B6E880\",\"#FF97FF\",\"#FECB52\"],\"font\":{\"color\":\"#2a3f5f\"},\"hovermode\":\"closest\",\"hoverlabel\":{\"align\":\"left\"},\"paper_bgcolor\":\"white\",\"plot_bgcolor\":\"#E5ECF6\",\"polar\":{\"bgcolor\":\"#E5ECF6\",\"angularaxis\":{\"gridcolor\":\"white\",\"linecolor\":\"white\",\"ticks\":\"\"},\"radialaxis\":{\"gridcolor\":\"white\",\"linecolor\":\"white\",\"ticks\":\"\"}},\"ternary\":{\"bgcolor\":\"#E5ECF6\",\"aaxis\":{\"gridcolor\":\"white\",\"linecolor\":\"white\",\"ticks\":\"\"},\"baxis\":{\"gridcolor\":\"white\",\"linecolor\":\"white\",\"ticks\":\"\"},\"caxis\":{\"gridcolor\":\"white\",\"linecolor\":\"white\",\"ticks\":\"\"}},\"coloraxis\":{\"colorbar\":{\"outlinewidth\":0,\"ticks\":\"\"}},\"colorscale\":{\"sequential\":[[0.0,\"#0d0887\"],[0.1111111111111111,\"#46039f\"],[0.2222222222222222,\"#7201a8\"],[0.3333333333333333,\"#9c179e\"],[0.4444444444444444,\"#bd3786\"],[0.5555555555555556,\"#d8576b\"],[0.6666666666666666,\"#ed7953\"],[0.7777777777777778,\"#fb9f3a\"],[0.8888888888888888,\"#fdca26\"],[1.0,\"#f0f921\"]],\"sequentialminus\":[[0.0,\"#0d0887\"],[0.1111111111111111,\"#46039f\"],[0.2222222222222222,\"#7201a8\"],[0.3333333333333333,\"#9c179e\"],[0.4444444444444444,\"#bd3786\"],[0.5555555555555556,\"#d8576b\"],[0.6666666666666666,\"#ed7953\"],[0.7777777777777778,\"#fb9f3a\"],[0.8888888888888888,\"#fdca26\"],[1.0,\"#f0f921\"]],\"diverging\":[[0,\"#8e0152\"],[0.1,\"#c51b7d\"],[0.2,\"#de77ae\"],[0.3,\"#f1b6da\"],[0.4,\"#fde0ef\"],[0.5,\"#f7f7f7\"],[0.6,\"#e6f5d0\"],[0.7,\"#b8e186\"],[0.8,\"#7fbc41\"],[0.9,\"#4d9221\"],[1,\"#276419\"]]},\"xaxis\":{\"gridcolor\":\"white\",\"linecolor\":\"white\",\"ticks\":\"\",\"title\":{\"standoff\":15},\"zerolinecolor\":\"white\",\"automargin\":true,\"zerolinewidth\":2},\"yaxis\":{\"gridcolor\":\"white\",\"linecolor\":\"white\",\"ticks\":\"\",\"title\":{\"standoff\":15},\"zerolinecolor\":\"white\",\"automargin\":true,\"zerolinewidth\":2},\"scene\":{\"xaxis\":{\"backgroundcolor\":\"#E5ECF6\",\"gridcolor\":\"white\",\"linecolor\":\"white\",\"showbackground\":true,\"ticks\":\"\",\"zerolinecolor\":\"white\",\"gridwidth\":2},\"yaxis\":{\"backgroundcolor\":\"#E5ECF6\",\"gridcolor\":\"white\",\"linecolor\":\"white\",\"showbackground\":true,\"ticks\":\"\",\"zerolinecolor\":\"white\",\"gridwidth\":2},\"zaxis\":{\"backgroundcolor\":\"#E5ECF6\",\"gridcolor\":\"white\",\"linecolor\":\"white\",\"showbackground\":true,\"ticks\":\"\",\"zerolinecolor\":\"white\",\"gridwidth\":2}},\"shapedefaults\":{\"line\":{\"color\":\"#2a3f5f\"}},\"annotationdefaults\":{\"arrowcolor\":\"#2a3f5f\",\"arrowhead\":0,\"arrowwidth\":1},\"geo\":{\"bgcolor\":\"white\",\"landcolor\":\"#E5ECF6\",\"subunitcolor\":\"white\",\"showland\":true,\"showlakes\":true,\"lakecolor\":\"white\"},\"title\":{\"x\":0.05},\"mapbox\":{\"style\":\"light\"}}},\"title\":{\"text\":\"Import\\u00e2ncia das Vari\\u00e1veis\"},\"xaxis\":{\"title\":{\"text\":\"Import\\u00e2ncia\"}},\"yaxis\":{\"title\":{\"text\":\"Vari\\u00e1veis\"},\"autorange\":\"reversed\"}},                        {\"responsive\": true}                    ).then(function(){\n",
              "                            \n",
              "var gd = document.getElementById('1fa84af5-8d66-403f-b71c-0b7a8e47bd2f');\n",
              "var x = new MutationObserver(function (mutations, observer) {{\n",
              "        var display = window.getComputedStyle(gd).display;\n",
              "        if (!display || display === 'none') {{\n",
              "            console.log([gd, 'removed!']);\n",
              "            Plotly.purge(gd);\n",
              "            observer.disconnect();\n",
              "        }}\n",
              "}});\n",
              "\n",
              "// Listen for the removal of the full notebook cells\n",
              "var notebookContainer = gd.closest('#notebook-container');\n",
              "if (notebookContainer) {{\n",
              "    x.observe(notebookContainer, {childList: true});\n",
              "}}\n",
              "\n",
              "// Listen for the clearing of the current output cell\n",
              "var outputEl = gd.closest('.output');\n",
              "if (outputEl) {{\n",
              "    x.observe(outputEl, {childList: true});\n",
              "}}\n",
              "\n",
              "                        })                };                            </script>        </div>\n",
              "</body>\n",
              "</html>"
            ]
          },
          "metadata": {}
        }
      ]
    },
    {
      "cell_type": "markdown",
      "source": [
        "### Salvamento da IA"
      ],
      "metadata": {
        "id": "RbaNpE279Byd"
      }
    },
    {
      "cell_type": "code",
      "source": [
        "# Salvar o modelo treinado, o pré-processador e os nomes das colunas em um arquivo\n",
        "with open('model.pkl', 'wb') as f:\n",
        "    pickle.dump({\n",
        "        'model': pipeline,\n",
        "        'preprocessor': preprocessor,\n",
        "        'columns': all_columns\n",
        "    }, f)"
      ],
      "metadata": {
        "id": "8uJWZbhMZ56z"
      },
      "execution_count": 17,
      "outputs": []
    }
  ]
}
